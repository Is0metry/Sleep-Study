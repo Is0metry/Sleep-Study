{
 "cells": [
  {
   "cell_type": "code",
   "execution_count": 97,
   "id": "09ba46d1",
   "metadata": {},
   "outputs": [],
   "source": [
    "import pandas as pd\n",
    "import numpy as np\n",
    "from pydantic.alias_generators import to_snake\n",
    "from pathlib import Path\n",
    "import seaborn as sns\n",
    "from datetime import timedelta\n",
    "import matplotlib.pyplot as plt"
   ]
  },
  {
   "cell_type": "markdown",
   "id": "baf4a814",
   "metadata": {},
   "source": [
    "## Import the Data"
   ]
  },
  {
   "cell_type": "code",
   "execution_count": 60,
   "id": "073c1b77",
   "metadata": {},
   "outputs": [
    {
     "data": {
      "text/html": [
       "<div>\n",
       "<style scoped>\n",
       "    .dataframe tbody tr th:only-of-type {\n",
       "        vertical-align: middle;\n",
       "    }\n",
       "\n",
       "    .dataframe tbody tr th {\n",
       "        vertical-align: top;\n",
       "    }\n",
       "\n",
       "    .dataframe thead th {\n",
       "        text-align: right;\n",
       "    }\n",
       "</style>\n",
       "<table border=\"1\" class=\"dataframe\">\n",
       "  <thead>\n",
       "    <tr style=\"text-align: right;\">\n",
       "      <th></th>\n",
       "      <th>timestamp</th>\n",
       "      <th>session</th>\n",
       "      <th>event</th>\n",
       "      <th>data_duration</th>\n",
       "    </tr>\n",
       "  </thead>\n",
       "  <tbody>\n",
       "    <tr>\n",
       "      <th>0</th>\n",
       "      <td>2024-12-02 00:57:31</td>\n",
       "      <td>1733118960</td>\n",
       "      <td>Obstructive</td>\n",
       "      <td>11.00</td>\n",
       "    </tr>\n",
       "    <tr>\n",
       "      <th>1</th>\n",
       "      <td>2024-12-02 00:57:57</td>\n",
       "      <td>1733118960</td>\n",
       "      <td>Obstructive</td>\n",
       "      <td>13.00</td>\n",
       "    </tr>\n",
       "    <tr>\n",
       "      <th>2</th>\n",
       "      <td>2024-12-01 23:56:37</td>\n",
       "      <td>1733118960</td>\n",
       "      <td>Pressure</td>\n",
       "      <td>4.00</td>\n",
       "    </tr>\n",
       "    <tr>\n",
       "      <th>3</th>\n",
       "      <td>2024-12-02 00:04:21</td>\n",
       "      <td>1733118960</td>\n",
       "      <td>Pressure</td>\n",
       "      <td>4.00</td>\n",
       "    </tr>\n",
       "    <tr>\n",
       "      <th>4</th>\n",
       "      <td>2024-12-02 00:04:21</td>\n",
       "      <td>1733118960</td>\n",
       "      <td>Pressure</td>\n",
       "      <td>4.02</td>\n",
       "    </tr>\n",
       "  </tbody>\n",
       "</table>\n",
       "</div>"
      ],
      "text/plain": [
       "            timestamp     session        event  data_duration\n",
       "0 2024-12-02 00:57:31  1733118960  Obstructive          11.00\n",
       "1 2024-12-02 00:57:57  1733118960  Obstructive          13.00\n",
       "2 2024-12-01 23:56:37  1733118960     Pressure           4.00\n",
       "3 2024-12-02 00:04:21  1733118960     Pressure           4.00\n",
       "4 2024-12-02 00:04:21  1733118960     Pressure           4.02"
      ]
     },
     "execution_count": 60,
     "metadata": {},
     "output_type": "execute_result"
    }
   ],
   "source": [
    "df = pd.read_csv(\"sleeping_on_these_hoes.csv\")\n",
    "df.columns = [\"timestamp\", \"session\",'event','data_duration']\n",
    "df.timestamp = pd.to_datetime(df.timestamp)\n",
    "df.head()"
   ]
  },
  {
   "cell_type": "markdown",
   "id": "875533fb",
   "metadata": {},
   "source": [
    "## Learning about the data\n",
    "Nightly usage first"
   ]
  },
  {
   "cell_type": "code",
   "execution_count": 116,
   "id": "d9a71acb",
   "metadata": {},
   "outputs": [
    {
     "data": {
      "text/html": [
       "<div>\n",
       "<style scoped>\n",
       "    .dataframe tbody tr th:only-of-type {\n",
       "        vertical-align: middle;\n",
       "    }\n",
       "\n",
       "    .dataframe tbody tr th {\n",
       "        vertical-align: top;\n",
       "    }\n",
       "\n",
       "    .dataframe thead th {\n",
       "        text-align: right;\n",
       "    }\n",
       "</style>\n",
       "<table border=\"1\" class=\"dataframe\">\n",
       "  <thead>\n",
       "    <tr style=\"text-align: right;\">\n",
       "      <th></th>\n",
       "      <th>min</th>\n",
       "      <th>max</th>\n",
       "    </tr>\n",
       "    <tr>\n",
       "      <th>session</th>\n",
       "      <th></th>\n",
       "      <th></th>\n",
       "    </tr>\n",
       "  </thead>\n",
       "  <tbody>\n",
       "    <tr>\n",
       "      <th>1733118960</th>\n",
       "      <td>2024-12-01 23:56:27</td>\n",
       "      <td>2024-12-02 01:05:27</td>\n",
       "    </tr>\n",
       "    <tr>\n",
       "      <th>1733205960</th>\n",
       "      <td>2024-12-03 00:06:52</td>\n",
       "      <td>2024-12-03 00:42:52</td>\n",
       "    </tr>\n",
       "    <tr>\n",
       "      <th>1733208840</th>\n",
       "      <td>2024-12-03 00:54:34</td>\n",
       "      <td>2024-12-03 03:26:34</td>\n",
       "    </tr>\n",
       "    <tr>\n",
       "      <th>1733293440</th>\n",
       "      <td>2024-12-04 00:24:44</td>\n",
       "      <td>2024-12-04 03:15:44</td>\n",
       "    </tr>\n",
       "    <tr>\n",
       "      <th>1733383200</th>\n",
       "      <td>2024-12-05 01:20:35</td>\n",
       "      <td>2024-12-05 04:37:35</td>\n",
       "    </tr>\n",
       "    <tr>\n",
       "      <th>...</th>\n",
       "      <td>...</td>\n",
       "      <td>...</td>\n",
       "    </tr>\n",
       "    <tr>\n",
       "      <th>1756464120</th>\n",
       "      <td>2025-08-29 05:42:41</td>\n",
       "      <td>2025-08-29 05:43:41</td>\n",
       "    </tr>\n",
       "    <tr>\n",
       "      <th>1756466101</th>\n",
       "      <td>2025-08-29 06:15:03</td>\n",
       "      <td>2025-08-29 06:16:03</td>\n",
       "    </tr>\n",
       "    <tr>\n",
       "      <th>1756466253</th>\n",
       "      <td>2025-08-29 06:17:35</td>\n",
       "      <td>2025-08-29 06:18:35</td>\n",
       "    </tr>\n",
       "    <tr>\n",
       "      <th>1756526940</th>\n",
       "      <td>2025-08-29 23:09:17</td>\n",
       "      <td>2025-08-30 06:04:17</td>\n",
       "    </tr>\n",
       "    <tr>\n",
       "      <th>1756553700</th>\n",
       "      <td>2025-08-30 06:35:50</td>\n",
       "      <td>2025-08-30 06:36:50</td>\n",
       "    </tr>\n",
       "  </tbody>\n",
       "</table>\n",
       "<p>442 rows × 2 columns</p>\n",
       "</div>"
      ],
      "text/plain": [
       "                           min                 max\n",
       "session                                           \n",
       "1733118960 2024-12-01 23:56:27 2024-12-02 01:05:27\n",
       "1733205960 2024-12-03 00:06:52 2024-12-03 00:42:52\n",
       "1733208840 2024-12-03 00:54:34 2024-12-03 03:26:34\n",
       "1733293440 2024-12-04 00:24:44 2024-12-04 03:15:44\n",
       "1733383200 2024-12-05 01:20:35 2024-12-05 04:37:35\n",
       "...                        ...                 ...\n",
       "1756464120 2025-08-29 05:42:41 2025-08-29 05:43:41\n",
       "1756466101 2025-08-29 06:15:03 2025-08-29 06:16:03\n",
       "1756466253 2025-08-29 06:17:35 2025-08-29 06:18:35\n",
       "1756526940 2025-08-29 23:09:17 2025-08-30 06:04:17\n",
       "1756553700 2025-08-30 06:35:50 2025-08-30 06:36:50\n",
       "\n",
       "[442 rows x 2 columns]"
      ]
     },
     "execution_count": 116,
     "metadata": {},
     "output_type": "execute_result"
    }
   ],
   "source": [
    "# get the start and end time of each session\n",
    "first_last = df.groupby('session').timestamp.agg(['min','max'])\n",
    "first_last"
   ]
  },
  {
   "cell_type": "code",
   "execution_count": 124,
   "id": "dbc0baed",
   "metadata": {},
   "outputs": [
    {
     "data": {
      "text/plain": [
       "Timedelta('0 days 02:25:27.194570135')"
      ]
     },
     "execution_count": 124,
     "metadata": {},
     "output_type": "execute_result"
    }
   ],
   "source": [
    "session_duration = first_last.diff(axis=1)['max']\n",
    "session_duration.mean()\n"
   ]
  }
 ],
 "metadata": {
  "kernelspec": {
   "display_name": "ds",
   "language": "python",
   "name": "python3"
  },
  "language_info": {
   "codemirror_mode": {
    "name": "ipython",
    "version": 3
   },
   "file_extension": ".py",
   "mimetype": "text/x-python",
   "name": "python",
   "nbconvert_exporter": "python",
   "pygments_lexer": "ipython3",
   "version": "3.13.5"
  }
 },
 "nbformat": 4,
 "nbformat_minor": 5
}
