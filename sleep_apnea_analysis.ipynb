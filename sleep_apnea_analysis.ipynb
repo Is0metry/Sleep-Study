{
 "cells": [
  {
   "cell_type": "code",
   "execution_count": 1,
   "id": "09ba46d1",
   "metadata": {},
   "outputs": [],
   "source": [
    "import pandas as pd\n",
    "import numpy as np\n",
    "from pathlib import Path\n",
    "import seaborn as sns\n",
    "from datetime import timedelta\n",
    "from IPython.display import Markdown as md\n",
    "import matplotlib.pyplot as plt"
   ]
  },
  {
   "cell_type": "markdown",
   "id": "baf4a814",
   "metadata": {},
   "source": [
    "## Import the Data\n",
    "\n",
    "Let's grab the csv I got from OSCAR"
   ]
  },
  {
   "cell_type": "code",
   "execution_count": 2,
   "id": "073c1b77",
   "metadata": {},
   "outputs": [
    {
     "data": {
      "text/html": [
       "<div>\n",
       "<style scoped>\n",
       "    .dataframe tbody tr th:only-of-type {\n",
       "        vertical-align: middle;\n",
       "    }\n",
       "\n",
       "    .dataframe tbody tr th {\n",
       "        vertical-align: top;\n",
       "    }\n",
       "\n",
       "    .dataframe thead th {\n",
       "        text-align: right;\n",
       "    }\n",
       "</style>\n",
       "<table border=\"1\" class=\"dataframe\">\n",
       "  <thead>\n",
       "    <tr style=\"text-align: right;\">\n",
       "      <th></th>\n",
       "      <th>timestamp</th>\n",
       "      <th>session</th>\n",
       "      <th>event</th>\n",
       "      <th>data_duration</th>\n",
       "    </tr>\n",
       "  </thead>\n",
       "  <tbody>\n",
       "    <tr>\n",
       "      <th>0</th>\n",
       "      <td>2024-12-02 00:57:31</td>\n",
       "      <td>1733118960</td>\n",
       "      <td>Obstructive</td>\n",
       "      <td>11.00</td>\n",
       "    </tr>\n",
       "    <tr>\n",
       "      <th>1</th>\n",
       "      <td>2024-12-02 00:57:57</td>\n",
       "      <td>1733118960</td>\n",
       "      <td>Obstructive</td>\n",
       "      <td>13.00</td>\n",
       "    </tr>\n",
       "    <tr>\n",
       "      <th>2</th>\n",
       "      <td>2024-12-01 23:56:37</td>\n",
       "      <td>1733118960</td>\n",
       "      <td>Pressure</td>\n",
       "      <td>4.00</td>\n",
       "    </tr>\n",
       "    <tr>\n",
       "      <th>3</th>\n",
       "      <td>2024-12-02 00:04:21</td>\n",
       "      <td>1733118960</td>\n",
       "      <td>Pressure</td>\n",
       "      <td>4.00</td>\n",
       "    </tr>\n",
       "    <tr>\n",
       "      <th>4</th>\n",
       "      <td>2024-12-02 00:04:21</td>\n",
       "      <td>1733118960</td>\n",
       "      <td>Pressure</td>\n",
       "      <td>4.02</td>\n",
       "    </tr>\n",
       "    <tr>\n",
       "      <th>...</th>\n",
       "      <td>...</td>\n",
       "      <td>...</td>\n",
       "      <td>...</td>\n",
       "      <td>...</td>\n",
       "    </tr>\n",
       "    <tr>\n",
       "      <th>1895990</th>\n",
       "      <td>2025-08-30 06:36:50</td>\n",
       "      <td>1756553700</td>\n",
       "      <td>Pressure</td>\n",
       "      <td>4.00</td>\n",
       "    </tr>\n",
       "    <tr>\n",
       "      <th>1895991</th>\n",
       "      <td>2025-08-30 06:36:00</td>\n",
       "      <td>1756553700</td>\n",
       "      <td>EPAP</td>\n",
       "      <td>4.00</td>\n",
       "    </tr>\n",
       "    <tr>\n",
       "      <th>1895992</th>\n",
       "      <td>2025-08-30 06:36:50</td>\n",
       "      <td>1756553700</td>\n",
       "      <td>EPAP</td>\n",
       "      <td>4.00</td>\n",
       "    </tr>\n",
       "    <tr>\n",
       "      <th>1895993</th>\n",
       "      <td>2025-08-30 06:35:50</td>\n",
       "      <td>1756553700</td>\n",
       "      <td>FLG</td>\n",
       "      <td>0.00</td>\n",
       "    </tr>\n",
       "    <tr>\n",
       "      <th>1895994</th>\n",
       "      <td>2025-08-30 06:36:50</td>\n",
       "      <td>1756553700</td>\n",
       "      <td>FLG</td>\n",
       "      <td>0.00</td>\n",
       "    </tr>\n",
       "  </tbody>\n",
       "</table>\n",
       "<p>1895995 rows × 4 columns</p>\n",
       "</div>"
      ],
      "text/plain": [
       "                  timestamp     session        event  data_duration\n",
       "0       2024-12-02 00:57:31  1733118960  Obstructive          11.00\n",
       "1       2024-12-02 00:57:57  1733118960  Obstructive          13.00\n",
       "2       2024-12-01 23:56:37  1733118960     Pressure           4.00\n",
       "3       2024-12-02 00:04:21  1733118960     Pressure           4.00\n",
       "4       2024-12-02 00:04:21  1733118960     Pressure           4.02\n",
       "...                     ...         ...          ...            ...\n",
       "1895990 2025-08-30 06:36:50  1756553700     Pressure           4.00\n",
       "1895991 2025-08-30 06:36:00  1756553700         EPAP           4.00\n",
       "1895992 2025-08-30 06:36:50  1756553700         EPAP           4.00\n",
       "1895993 2025-08-30 06:35:50  1756553700          FLG           0.00\n",
       "1895994 2025-08-30 06:36:50  1756553700          FLG           0.00\n",
       "\n",
       "[1895995 rows x 4 columns]"
      ]
     },
     "execution_count": 2,
     "metadata": {},
     "output_type": "execute_result"
    }
   ],
   "source": [
    "df = pd.read_csv(\"data/sleeping_on_these_hoes.csv\")\n",
    "df.columns = [\"timestamp\", \"session\",'event','data_duration']\n",
    "df.timestamp = pd.to_datetime(df.timestamp)\n",
    "df"
   ]
  },
  {
   "cell_type": "markdown",
   "id": "875533fb",
   "metadata": {},
   "source": [
    "## Learning about the data\n",
    "\n",
    "Let's start by figuring out how long each session is\n",
    "\n"
   ]
  },
  {
   "cell_type": "code",
   "execution_count": 13,
   "id": "e2eaf40d",
   "metadata": {},
   "outputs": [
    {
     "data": {
      "text/html": [
       "<div>\n",
       "<style scoped>\n",
       "    .dataframe tbody tr th:only-of-type {\n",
       "        vertical-align: middle;\n",
       "    }\n",
       "\n",
       "    .dataframe tbody tr th {\n",
       "        vertical-align: top;\n",
       "    }\n",
       "\n",
       "    .dataframe thead th {\n",
       "        text-align: right;\n",
       "    }\n",
       "</style>\n",
       "<table border=\"1\" class=\"dataframe\">\n",
       "  <thead>\n",
       "    <tr style=\"text-align: right;\">\n",
       "      <th></th>\n",
       "      <th>start_ts</th>\n",
       "      <th>end_ts</th>\n",
       "      <th>duration</th>\n",
       "    </tr>\n",
       "    <tr>\n",
       "      <th>session</th>\n",
       "      <th></th>\n",
       "      <th></th>\n",
       "      <th></th>\n",
       "    </tr>\n",
       "  </thead>\n",
       "  <tbody>\n",
       "    <tr>\n",
       "      <th>1733118960</th>\n",
       "      <td>2024-12-01 23:56:27</td>\n",
       "      <td>2024-12-02 01:05:27</td>\n",
       "      <td>0 days 01:09:00</td>\n",
       "    </tr>\n",
       "    <tr>\n",
       "      <th>1733205960</th>\n",
       "      <td>2024-12-03 00:06:52</td>\n",
       "      <td>2024-12-03 00:42:52</td>\n",
       "      <td>0 days 00:36:00</td>\n",
       "    </tr>\n",
       "    <tr>\n",
       "      <th>1733208840</th>\n",
       "      <td>2024-12-03 00:54:34</td>\n",
       "      <td>2024-12-03 03:26:34</td>\n",
       "      <td>0 days 02:32:00</td>\n",
       "    </tr>\n",
       "    <tr>\n",
       "      <th>1733293440</th>\n",
       "      <td>2024-12-04 00:24:44</td>\n",
       "      <td>2024-12-04 03:15:44</td>\n",
       "      <td>0 days 02:51:00</td>\n",
       "    </tr>\n",
       "    <tr>\n",
       "      <th>1733383200</th>\n",
       "      <td>2024-12-05 01:20:35</td>\n",
       "      <td>2024-12-05 04:37:35</td>\n",
       "      <td>0 days 03:17:00</td>\n",
       "    </tr>\n",
       "    <tr>\n",
       "      <th>...</th>\n",
       "      <td>...</td>\n",
       "      <td>...</td>\n",
       "      <td>...</td>\n",
       "    </tr>\n",
       "    <tr>\n",
       "      <th>1756464120</th>\n",
       "      <td>2025-08-29 05:42:41</td>\n",
       "      <td>2025-08-29 05:43:41</td>\n",
       "      <td>0 days 00:01:00</td>\n",
       "    </tr>\n",
       "    <tr>\n",
       "      <th>1756466101</th>\n",
       "      <td>2025-08-29 06:15:03</td>\n",
       "      <td>2025-08-29 06:16:03</td>\n",
       "      <td>0 days 00:01:00</td>\n",
       "    </tr>\n",
       "    <tr>\n",
       "      <th>1756466253</th>\n",
       "      <td>2025-08-29 06:17:35</td>\n",
       "      <td>2025-08-29 06:18:35</td>\n",
       "      <td>0 days 00:01:00</td>\n",
       "    </tr>\n",
       "    <tr>\n",
       "      <th>1756526940</th>\n",
       "      <td>2025-08-29 23:09:17</td>\n",
       "      <td>2025-08-30 06:04:17</td>\n",
       "      <td>0 days 06:55:00</td>\n",
       "    </tr>\n",
       "    <tr>\n",
       "      <th>1756553700</th>\n",
       "      <td>2025-08-30 06:35:50</td>\n",
       "      <td>2025-08-30 06:36:50</td>\n",
       "      <td>0 days 00:01:00</td>\n",
       "    </tr>\n",
       "  </tbody>\n",
       "</table>\n",
       "<p>442 rows × 3 columns</p>\n",
       "</div>"
      ],
      "text/plain": [
       "                      start_ts              end_ts        duration\n",
       "session                                                           \n",
       "1733118960 2024-12-01 23:56:27 2024-12-02 01:05:27 0 days 01:09:00\n",
       "1733205960 2024-12-03 00:06:52 2024-12-03 00:42:52 0 days 00:36:00\n",
       "1733208840 2024-12-03 00:54:34 2024-12-03 03:26:34 0 days 02:32:00\n",
       "1733293440 2024-12-04 00:24:44 2024-12-04 03:15:44 0 days 02:51:00\n",
       "1733383200 2024-12-05 01:20:35 2024-12-05 04:37:35 0 days 03:17:00\n",
       "...                        ...                 ...             ...\n",
       "1756464120 2025-08-29 05:42:41 2025-08-29 05:43:41 0 days 00:01:00\n",
       "1756466101 2025-08-29 06:15:03 2025-08-29 06:16:03 0 days 00:01:00\n",
       "1756466253 2025-08-29 06:17:35 2025-08-29 06:18:35 0 days 00:01:00\n",
       "1756526940 2025-08-29 23:09:17 2025-08-30 06:04:17 0 days 06:55:00\n",
       "1756553700 2025-08-30 06:35:50 2025-08-30 06:36:50 0 days 00:01:00\n",
       "\n",
       "[442 rows x 3 columns]"
      ]
     },
     "execution_count": 13,
     "metadata": {},
     "output_type": "execute_result"
    }
   ],
   "source": [
    "# get the start and end time of each session and create a session dataframe\n",
    "session_df = (\n",
    "    df.groupby(\"session\")\n",
    "    .timestamp.agg([\"min\", \"max\"])\n",
    "    .rename(columns={\"min\": \"start_ts\", \"max\": \"end_ts\"})\n",
    ")\n",
    "# calculating the duration\n",
    "session_df['duration'] = session_df.diff(axis=1)['end_ts']\n",
    "session_df"
   ]
  },
  {
   "cell_type": "markdown",
   "id": "7660d41a",
   "metadata": {},
   "source": [
    "Because most of these occur overnight, I'm going to subtract 12 hours to make daily groupings easier"
   ]
  },
  {
   "cell_type": "code",
   "execution_count": 14,
   "id": "8eda27c3",
   "metadata": {},
   "outputs": [],
   "source": [
    "session_df['start_am'] = session_df.start_ts - timedelta(hours=12)\n",
    "session_df['end_am'] = session_df.end_ts - timedelta(hours=12)"
   ]
  },
  {
   "cell_type": "markdown",
   "id": "403a3117",
   "metadata": {},
   "source": [
    "### Let's visualize!"
   ]
  },
  {
   "cell_type": "code",
   "execution_count": 15,
   "id": "e3ed8ae9",
   "metadata": {},
   "outputs": [
    {
     "data": {
      "image/png": "[encoded data removed]",
      "text/plain": [
       "<Figure size 640x480 with 1 Axes>"
      ]
     },
     "metadata": {},
     "output_type": "display_data"
    },
    {
     "data": {
      "text/markdown": [
       "### average duration is 0 days 02:25:27.194570135"
      ],
      "text/plain": [
       "<IPython.core.display.Markdown object>"
      ]
     },
     "metadata": {},
     "output_type": "display_data"
    }
   ],
   "source": [
    "duration_hist = sns.histplot(session_df.duration.dt.seconds)\n",
    "duration_hist.set_title(\"Session length (in seconds)\")\n",
    "plt.show()\n",
    "display(md(f\"### average duration is {session_df.duration.mean()}\"))"
   ]
  },
  {
   "cell_type": "markdown",
   "id": "de417702",
   "metadata": {},
   "source": [
    "OOOOOOkay....\n",
    "\n",
    "So here's a lot of really short sessions (less than an hour and a half)\n",
    "This is obviously going to require some more work. \n",
    "\n",
    "Normally, I would do some data-sciency things to this but considering the type of data we're looking at, I think it's safe to say that if the session has lasted less than 15 minutes, I almost certainly haven't fallen asleep in that time."
   ]
  },
  {
   "cell_type": "code",
   "execution_count": 16,
   "id": "c3665cb0",
   "metadata": {},
   "outputs": [],
   "source": [
    "session_df = session_df[session_df.duration >= timedelta(minutes=15)]"
   ]
  },
  {
   "cell_type": "code",
   "execution_count": 18,
   "id": "74b0b860",
   "metadata": {},
   "outputs": [
    {
     "data": {
      "image/png": "[encoded data removed]",
      "text/plain": [
       "<Figure size 640x480 with 1 Axes>"
      ]
     },
     "metadata": {},
     "output_type": "display_data"
    }
   ],
   "source": [
    "sns.histplot(session_df.duration.dt.seconds)\n",
    "plt.show()"
   ]
  },
  {
   "cell_type": "markdown",
   "id": "c679eb2e",
   "metadata": {},
   "source": [
    "# Let's look at pressure events!"
   ]
  },
  {
   "cell_type": "code",
   "execution_count": 20,
   "id": "7da1db51",
   "metadata": {},
   "outputs": [
    {
     "data": {
      "text/html": [
       "<div>\n",
       "<style scoped>\n",
       "    .dataframe tbody tr th:only-of-type {\n",
       "        vertical-align: middle;\n",
       "    }\n",
       "\n",
       "    .dataframe tbody tr th {\n",
       "        vertical-align: top;\n",
       "    }\n",
       "\n",
       "    .dataframe thead th {\n",
       "        text-align: right;\n",
       "    }\n",
       "</style>\n",
       "<table border=\"1\" class=\"dataframe\">\n",
       "  <thead>\n",
       "    <tr style=\"text-align: right;\">\n",
       "      <th></th>\n",
       "      <th>timestamp</th>\n",
       "      <th>session</th>\n",
       "      <th>event</th>\n",
       "      <th>data_duration</th>\n",
       "    </tr>\n",
       "  </thead>\n",
       "  <tbody>\n",
       "    <tr>\n",
       "      <th>2</th>\n",
       "      <td>2024-12-01 23:56:37</td>\n",
       "      <td>1733118960</td>\n",
       "      <td>Pressure</td>\n",
       "      <td>4.00</td>\n",
       "    </tr>\n",
       "    <tr>\n",
       "      <th>3</th>\n",
       "      <td>2024-12-02 00:04:21</td>\n",
       "      <td>1733118960</td>\n",
       "      <td>Pressure</td>\n",
       "      <td>4.00</td>\n",
       "    </tr>\n",
       "    <tr>\n",
       "      <th>4</th>\n",
       "      <td>2024-12-02 00:04:21</td>\n",
       "      <td>1733118960</td>\n",
       "      <td>Pressure</td>\n",
       "      <td>4.02</td>\n",
       "    </tr>\n",
       "    <tr>\n",
       "      <th>5</th>\n",
       "      <td>2024-12-02 00:04:23</td>\n",
       "      <td>1733118960</td>\n",
       "      <td>Pressure</td>\n",
       "      <td>4.02</td>\n",
       "    </tr>\n",
       "    <tr>\n",
       "      <th>6</th>\n",
       "      <td>2024-12-02 00:04:23</td>\n",
       "      <td>1733118960</td>\n",
       "      <td>Pressure</td>\n",
       "      <td>4.06</td>\n",
       "    </tr>\n",
       "    <tr>\n",
       "      <th>...</th>\n",
       "      <td>...</td>\n",
       "      <td>...</td>\n",
       "      <td>...</td>\n",
       "      <td>...</td>\n",
       "    </tr>\n",
       "    <tr>\n",
       "      <th>1890120</th>\n",
       "      <td>2025-08-30 06:04:05</td>\n",
       "      <td>1756526940</td>\n",
       "      <td>Pressure</td>\n",
       "      <td>7.72</td>\n",
       "    </tr>\n",
       "    <tr>\n",
       "      <th>1890121</th>\n",
       "      <td>2025-08-30 06:04:05</td>\n",
       "      <td>1756526940</td>\n",
       "      <td>Pressure</td>\n",
       "      <td>7.70</td>\n",
       "    </tr>\n",
       "    <tr>\n",
       "      <th>1890122</th>\n",
       "      <td>2025-08-30 06:04:17</td>\n",
       "      <td>1756526940</td>\n",
       "      <td>Pressure</td>\n",
       "      <td>7.70</td>\n",
       "    </tr>\n",
       "    <tr>\n",
       "      <th>1895989</th>\n",
       "      <td>2025-08-30 06:36:00</td>\n",
       "      <td>1756553700</td>\n",
       "      <td>Pressure</td>\n",
       "      <td>4.00</td>\n",
       "    </tr>\n",
       "    <tr>\n",
       "      <th>1895990</th>\n",
       "      <td>2025-08-30 06:36:50</td>\n",
       "      <td>1756553700</td>\n",
       "      <td>Pressure</td>\n",
       "      <td>4.00</td>\n",
       "    </tr>\n",
       "  </tbody>\n",
       "</table>\n",
       "<p>945302 rows × 4 columns</p>\n",
       "</div>"
      ],
      "text/plain": [
       "                  timestamp     session     event  data_duration\n",
       "2       2024-12-01 23:56:37  1733118960  Pressure           4.00\n",
       "3       2024-12-02 00:04:21  1733118960  Pressure           4.00\n",
       "4       2024-12-02 00:04:21  1733118960  Pressure           4.02\n",
       "5       2024-12-02 00:04:23  1733118960  Pressure           4.02\n",
       "6       2024-12-02 00:04:23  1733118960  Pressure           4.06\n",
       "...                     ...         ...       ...            ...\n",
       "1890120 2025-08-30 06:04:05  1756526940  Pressure           7.72\n",
       "1890121 2025-08-30 06:04:05  1756526940  Pressure           7.70\n",
       "1890122 2025-08-30 06:04:17  1756526940  Pressure           7.70\n",
       "1895989 2025-08-30 06:36:00  1756553700  Pressure           4.00\n",
       "1895990 2025-08-30 06:36:50  1756553700  Pressure           4.00\n",
       "\n",
       "[945302 rows x 4 columns]"
      ]
     },
     "execution_count": 20,
     "metadata": {},
     "output_type": "execute_result"
    }
   ],
   "source": [
    "pressure_df = df[df.event == 'Pressure']\n",
    "pressure_df"
   ]
  },
  {
   "cell_type": "markdown",
   "id": "5a814bbb",
   "metadata": {},
   "source": [
    "Let's look at my average nightly pressure"
   ]
  },
  {
   "cell_type": "code",
   "execution_count": 27,
   "id": "0a9f69f8",
   "metadata": {},
   "outputs": [
    {
     "data": {
      "text/plain": [
       "event\n",
       "Pressure       945302\n",
       "EPAP           908608\n",
       "FLG             40242\n",
       "Obstructive      1340\n",
       "Apnea             171\n",
       "ClearAirway       131\n",
       "Hypopnea          118\n",
       "RERA               83\n",
       "Name: count, dtype: int64"
      ]
     },
     "execution_count": 27,
     "metadata": {},
     "output_type": "execute_result"
    }
   ],
   "source": [
    "df.event.value_counts()"
   ]
  }
 ],
 "metadata": {
  "kernelspec": {
   "display_name": "ds",
   "language": "python",
   "name": "python3"
  },
  "language_info": {
   "codemirror_mode": {
    "name": "ipython",
    "version": 3
   },
   "file_extension": ".py",
   "mimetype": "text/x-python",
   "name": "python",
   "nbconvert_exporter": "python",
   "pygments_lexer": "ipython3",
   "version": "3.13.5"
  }
 },
 "nbformat": 4,
 "nbformat_minor": 5
}
