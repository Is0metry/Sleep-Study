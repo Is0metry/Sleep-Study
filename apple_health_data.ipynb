{
 "cells": [
  {
   "cell_type": "markdown",
   "id": "fbc6eb67",
   "metadata": {},
   "source": [
    "# Apple Health Data\n",
    "This notebook is dedicated to exploring my health data exported from Apple Health. I'm going to use this to break it up"
   ]
  },
  {
   "cell_type": "code",
   "execution_count": 16,
   "id": "bac19628",
   "metadata": {},
   "outputs": [],
   "source": [
    "from pathlib import Path\n",
    "from xml.etree import ElementTree as et\n",
    "\n",
    "import pandas as pd"
   ]
  },
  {
   "cell_type": "code",
   "execution_count": 4,
   "id": "c2dd4ae4",
   "metadata": {},
   "outputs": [],
   "source": [
    "file = Path('data/apple_health_export/export.xml')"
   ]
  },
  {
   "cell_type": "code",
   "execution_count": 12,
   "id": "78bba413",
   "metadata": {},
   "outputs": [],
   "source": [
    "tree = et.parse(file)"
   ]
  },
  {
   "cell_type": "code",
   "execution_count": null,
   "id": "b13bf5a0",
   "metadata": {},
   "outputs": [],
   "source": [
    "root = tree.getroot()\n",
    "records = pd.DataFrame([x.attrib for x in root.iter('Record')])\n",
    "for dt in ['creationDate','startDate','endDate']:\n",
    "    records[dt] = pd.to_datetime(records[dt])\n",
    "\n",
    "records = records.drop(columns=['sourceName','sourceVersion','device'])\n",
    "records = records[records.creationDate >= \"2024-12-01\"]\n",
    "records['type'] = records['type'].str.replace(r'HK(Quantity|Category)TypeIdentifier','',regex=True)\n",
    "records.value = pd.to_numeric(records.value,errors='coerce')\n",
    "\n"
   ]
  },
  {
   "cell_type": "code",
   "execution_count": 50,
   "id": "66b34eaf",
   "metadata": {},
   "outputs": [],
   "source": [
    "records.to_pickle('data/apple_health.pkl')"
   ]
  },
  {
   "cell_type": "code",
   "execution_count": 51,
   "id": "3a5c4093",
   "metadata": {},
   "outputs": [
    {
     "data": {
      "text/plain": [
       "type\n",
       "ActiveEnergyBurned                181505\n",
       "HeartRate                         171056\n",
       "BasalEnergyBurned                 166434\n",
       "PhysicalEffort                     70280\n",
       "DistanceWalkingRunning             40670\n",
       "StepCount                          24720\n",
       "HeadphoneAudioExposure             24195\n",
       "AppleStandTime                     13694\n",
       "EnvironmentalAudioExposure         12071\n",
       "RespiratoryRate                    11909\n",
       "AppleExerciseTime                  11264\n",
       "WalkingStepLength                   8262\n",
       "WalkingSpeed                        8262\n",
       "SleepAnalysis                       7973\n",
       "WalkingDoubleSupportPercentage      7314\n",
       "AppleStandHour                      6180\n",
       "OxygenSaturation                    5776\n",
       "HeartRateVariabilitySDNN            3100\n",
       "WalkingAsymmetryPercentage          2759\n",
       "FlightsClimbed                      2096\n",
       "TimeInDaylight                      1941\n",
       "StairDescentSpeed                   1130\n",
       "HandwashingEvent                    1001\n",
       "StairAscentSpeed                     995\n",
       "EnvironmentalSoundReduction          990\n",
       "RestingHeartRate                     276\n",
       "WalkingHeartRateAverage              274\n",
       "AudioExposureEvent                    51\n",
       "AppleWalkingSteadiness                39\n",
       "SixMinuteWalkTestDistance             38\n",
       "VO2Max                                14\n",
       "HeadphoneAudioExposureEvent           13\n",
       "HeartRateRecoveryOneMinute             3\n",
       "BodyMass                               3\n",
       "LowCardioFitnessEvent                  2\n",
       "WaistCircumference                     1\n",
       "Name: count, dtype: int64"
      ]
     },
     "execution_count": 51,
     "metadata": {},
     "output_type": "execute_result"
    }
   ],
   "source": [
    "records.type.value_counts()"
   ]
  },
  {
   "cell_type": "code",
   "execution_count": 63,
   "id": "af52a152",
   "metadata": {},
   "outputs": [],
   "source": [
    "info_df = (\n",
    "    records[records.type == \"AppleExerciseTime\"]\n",
    "    .resample(\"d\", on=\"startDate\")\n",
    "    .value.sum()\n",
    "    .astype(\"int\")\n",
    "    .to_frame()\n",
    ").rename(columns={'value':'exercise_time'})"
   ]
  },
  {
   "cell_type": "code",
   "execution_count": 64,
   "id": "e28a4083",
   "metadata": {},
   "outputs": [],
   "source": [
    "info_df['active_calories'] = (\n",
    "    records[records.type == \"ActiveEnergyBurned\"]\n",
    "    .resample(\"d\", on=\"startDate\")\n",
    "    .value.sum()\n",
    "    .astype(\"int\")\n",
    ")\n"
   ]
  },
  {
   "cell_type": "code",
   "execution_count": 66,
   "id": "dcfd4fb9",
   "metadata": {},
   "outputs": [],
   "source": [
    "info_df.to_pickle('data/activity_data.pkl')"
   ]
  },
  {
   "cell_type": "code",
   "execution_count": null,
   "id": "aaf2c961",
   "metadata": {},
   "outputs": [],
   "source": []
  }
 ],
 "metadata": {
  "kernelspec": {
   "display_name": "ds",
   "language": "python",
   "name": "python3"
  },
  "language_info": {
   "codemirror_mode": {
    "name": "ipython",
    "version": 3
   },
   "file_extension": ".py",
   "mimetype": "text/x-python",
   "name": "python",
   "nbconvert_exporter": "python",
   "pygments_lexer": "ipython3",
   "version": "3.13.5"
  }
 },
 "nbformat": 4,
 "nbformat_minor": 5
}
